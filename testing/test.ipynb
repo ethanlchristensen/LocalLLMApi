{
 "cells": [
  {
   "cell_type": "code",
   "execution_count": 1,
   "metadata": {},
   "outputs": [],
   "source": [
    "import bruhcolor\n",
    "import datetime\n",
    "import requests\n",
    "import random\n",
    "import json\n",
    "import uuid\n",
    "import os\n",
    "\n",
    "from utils import save_image"
   ]
  },
  {
   "cell_type": "markdown",
   "metadata": {},
   "source": [
    "## Stable"
   ]
  },
  {
   "cell_type": "code",
   "execution_count": 10,
   "metadata": {},
   "outputs": [
    {
     "name": "stdout",
     "output_type": "stream",
     "text": [
      "\u001b[32mImage saved to: ./images/2024-04-14/2024-04-14-01-30-39_c3809fcd-a0bf-48fd-b557-a9c31c770b07.png\u001b[0m\n",
      "\u001b[32mImage saved to: ./images/2024-04-14/2024-04-14-01-30-54_cd4c136d-15c5-4144-b670-b8555af5df34.png\u001b[0m\n",
      "\u001b[32mImage saved to: ./images/2024-04-14/2024-04-14-01-31-08_08c13f45-2b47-4a81-84d8-7cc3e5e7e227.png\u001b[0m\n"
     ]
    }
   ],
   "source": [
    "for prompt in json.loads(open(\"./payloads.json\", \"r\").read())[\"imagine_prompts\"][-2:-3]:\n",
    "    payload = json.loads(open(\"./payloads.json\", \"r\").read())[\"imagine\"]\n",
    "    payload[\"prompt\"] = prompt\n",
    "    payload[\"steps\"] = 20\n",
    "    payload[\"cfg_scale\"] = 7.0\n",
    "    payload[\"images\"] = 1\n",
    "    payload[\"quality\"] = 2\n",
    "    response = requests.post(\"http://127.0.0.1:8000/stable/imagine\", data=json.dumps(payload))\n",
    "    if response.json()[\"success\"]:\n",
    "        date = datetime.datetime.now().strftime('%Y-%m-%d')\n",
    "        if not os.path.exists(f\"./images/{date}\"):\n",
    "            print(bruhcolor.bruhcolored(f\"creating folder: ./images/{date}\", color=\"magenta\"))\n",
    "            os.mkdir(f\"./images/{date}\")        \n",
    "        if response.status_code in [200, 201]:\n",
    "            for image in response.json()[\"response\"][\"images\"]:\n",
    "                path = f\"./images/{date}/{datetime.datetime.now().strftime('%Y-%m-%d-%H-%M-%S')}_{uuid.uuid4()}.png\"\n",
    "                print(bruhcolor.bruhcolored(f\"Image saved to: {path}\",  \"green\"))\n",
    "                save_image(path=path, data=image)\n",
    "        else:\n",
    "            print(json.dumps(response.json(), indent=3))\n",
    "    else:\n",
    "        print(response.content.decode(\"utf8\"))"
   ]
  },
  {
   "cell_type": "markdown",
   "metadata": {},
   "source": [
    "## Chat"
   ]
  },
  {
   "cell_type": "code",
   "execution_count": 4,
   "metadata": {},
   "outputs": [
    {
     "name": "stdout",
     "output_type": "stream",
     "text": [
      "{'message': \"('Connection aborted.', RemoteDisconnected('Remote end closed connection without response'))\", 'response': 'Could not reach Ollama!'}\n"
     ]
    }
   ],
   "source": [
    "payload = json.loads(open(\"./payloads.json\", \"r\").read())[\"jade\"]\n",
    "response = requests.post(\"http://127.0.0.1:8000/chat/ollama\", data=json.dumps(payload))\n",
    "\n",
    "if response.status_code in [200, 201]:\n",
    "    print(response.json()[\"response\"][\"response\"])\n",
    "else:\n",
    "    print(json.dumps(response.json(), indent=3))"
   ]
  },
  {
   "cell_type": "code",
   "execution_count": 5,
   "metadata": {},
   "outputs": [
    {
     "name": "stdout",
     "output_type": "stream",
     "text": [
      "{'message': \"('Connection aborted.', RemoteDisconnected('Remote end closed connection without response'))\", 'response': 'Could not reach Ollama!'}\n"
     ]
    }
   ],
   "source": [
    "payload = json.loads(open(\"./payloads.json\", \"r\").read())[\"marcus\"]\n",
    "response = requests.post(\"http://127.0.0.1:8000/chat/ollama\", data=json.dumps(payload))\n",
    "\n",
    "if response.status_code in [200, 201]:\n",
    "    print(response.json()[\"response\"][\"response\"])\n",
    "else:\n",
    "    print(json.dumps(response.json(), indent=3))"
   ]
  },
  {
   "cell_type": "code",
   "execution_count": 6,
   "metadata": {},
   "outputs": [
    {
     "name": "stdout",
     "output_type": "stream",
     "text": [
      "Sure! Here are three unconventional programming languages along with the \"Hello, World!\" program written in them:\n",
      "\n",
      "1. Brainfuck:\n",
      "```brainfuck\n",
      "-[------->+<]>-.-[->+++++<]>++.+++++++..+++.[--->+<]>----.-------.--------.-[--->+<]>.\n",
      "```\n",
      "\n",
      "2. Malbolge:\n",
      "```malbolge\n",
      "(=<`#9]~6ZY32Vx/4Rs+0No-&Jk)\"Fh}|Bcy?`=*z]Kw%oG4UUS0/@-ejc(:'8dc\n",
      "```\n",
      "\n",
      "3. Ook! (an esoteric programming language based on the sounds made by an orangutan):\n",
      "```ook\n",
      "Ook. Ook? Ook. Ook. Ook. Ook. Ook. Ook. Ook. Ook. Ook. Ook. Ook. Ook. Ook. Ook. Ook. Ook. Ook. Ook. Ook. Ook. Ook. Ook. Ook. Ook. Ook. Ook. Ook. Ook. Ook. Ook. Ook. Ook. Ook. Ook. Ook. Ook. Ook.\n",
      "Ook. Ook. Ook. Ook. Ook. Ook. Ook. Ook. Ook. Ook. Ook. Ook. Ook. Ook. Ook. Ook. Ook. Ook? Ook. Ook? Ook. Ook. Ook? Ook. Ook? Ook. Ook. Ook? Ook. Ook. Ook. Ook. Ook. Ook. Ook. Ook. Ook. Ook. Ook.\n",
      "Ook! Ook. Ook. Ook. Ook. Ook. Ook. Ook. Ook. Ook. Ook. Ook. Ook. Ook. Ook. Ook. Ook. Ook. Ook. Ook. Ook. Ook. Ook. Ook. Ook. Ook. Ook. Ook. Ook. Ook. Ook. Ook. Ook. Ook. Ook. Ook. Ook. Ook. Ook.\n",
      "Ook? Ook? Ook\n"
     ]
    }
   ],
   "source": [
    "payload = json.loads(open(\"./payloads.json\", \"r\").read())[\"openai\"]\n",
    "response = requests.post(\"http://127.0.0.1:8000/chat/openai\", data=json.dumps(payload))\n",
    "\n",
    "if response.status_code in [200, 201]:\n",
    "    print(response.json()[\"response\"][\"response\"])\n",
    "else:\n",
    "    print(json.dumps(response.json(), indent=3))"
   ]
  }
 ],
 "metadata": {
  "kernelspec": {
   "display_name": "Python 3",
   "language": "python",
   "name": "python3"
  },
  "language_info": {
   "codemirror_mode": {
    "name": "ipython",
    "version": 3
   },
   "file_extension": ".py",
   "mimetype": "text/x-python",
   "name": "python",
   "nbconvert_exporter": "python",
   "pygments_lexer": "ipython3",
   "version": "3.11.5"
  }
 },
 "nbformat": 4,
 "nbformat_minor": 2
}
