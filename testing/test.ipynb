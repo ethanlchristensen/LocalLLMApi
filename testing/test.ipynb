{
 "cells": [
  {
   "cell_type": "code",
   "execution_count": 1,
   "metadata": {},
   "outputs": [],
   "source": [
    "import bruhcolor\n",
    "import datetime\n",
    "import requests\n",
    "import json\n",
    "import uuid\n",
    "import os\n",
    "\n",
    "from utils import save_image"
   ]
  },
  {
   "cell_type": "markdown",
   "metadata": {},
   "source": [
    "## Stable"
   ]
  },
  {
   "cell_type": "code",
   "execution_count": 3,
   "metadata": {},
   "outputs": [
    {
     "ename": "AttributeError",
     "evalue": "'Response' object has no attribute 'success'",
     "output_type": "error",
     "traceback": [
      "\u001b[1;31m---------------------------------------------------------------------------\u001b[0m",
      "\u001b[1;31mAttributeError\u001b[0m                            Traceback (most recent call last)",
      "Cell \u001b[1;32mIn[3], line 5\u001b[0m\n\u001b[0;32m      2\u001b[0m payload[\u001b[38;5;124m\"\u001b[39m\u001b[38;5;124msteps\u001b[39m\u001b[38;5;124m\"\u001b[39m] \u001b[38;5;241m=\u001b[39m \u001b[38;5;241m10\u001b[39m\n\u001b[0;32m      3\u001b[0m response \u001b[38;5;241m=\u001b[39m requests\u001b[38;5;241m.\u001b[39mpost(\u001b[38;5;124m\"\u001b[39m\u001b[38;5;124mhttp://127.0.0.1:8000/stable/imagine\u001b[39m\u001b[38;5;124m\"\u001b[39m, data\u001b[38;5;241m=\u001b[39mjson\u001b[38;5;241m.\u001b[39mdumps(payload))\n\u001b[1;32m----> 5\u001b[0m \u001b[38;5;28;01mif\u001b[39;00m \u001b[43mresponse\u001b[49m\u001b[38;5;241;43m.\u001b[39;49m\u001b[43msuccess\u001b[49m:\n\u001b[0;32m      6\u001b[0m     date \u001b[38;5;241m=\u001b[39m datetime\u001b[38;5;241m.\u001b[39mdatetime\u001b[38;5;241m.\u001b[39mnow()\u001b[38;5;241m.\u001b[39mstrftime(\u001b[38;5;124m'\u001b[39m\u001b[38;5;124m%\u001b[39m\u001b[38;5;124mY-\u001b[39m\u001b[38;5;124m%\u001b[39m\u001b[38;5;124mm-\u001b[39m\u001b[38;5;132;01m%d\u001b[39;00m\u001b[38;5;124m'\u001b[39m)\n\u001b[0;32m      7\u001b[0m     \u001b[38;5;28;01mif\u001b[39;00m \u001b[38;5;129;01mnot\u001b[39;00m os\u001b[38;5;241m.\u001b[39mpath\u001b[38;5;241m.\u001b[39mexists(\u001b[38;5;124mf\u001b[39m\u001b[38;5;124m\"\u001b[39m\u001b[38;5;124m./images/\u001b[39m\u001b[38;5;132;01m{\u001b[39;00mdate\u001b[38;5;132;01m}\u001b[39;00m\u001b[38;5;124m\"\u001b[39m):\n",
      "\u001b[1;31mAttributeError\u001b[0m: 'Response' object has no attribute 'success'"
     ]
    }
   ],
   "source": [
    "payload = json.loads(open(\"./payloads.json\", \"r\").read())[\"imagine\"]\n",
    "payload[\"steps\"] = 10\n",
    "response = requests.post(\"http://127.0.0.1:8000/stable/imagine\", data=json.dumps(payload))\n",
    "\n",
    "if response.success:\n",
    "    date = datetime.datetime.now().strftime('%Y-%m-%d')\n",
    "    if not os.path.exists(f\"./images/{date}\"):\n",
    "        print(bruhcolor.bruhcolored(f\"creating folder: ./images/{date}\", color=\"magenta\"))\n",
    "        os.mkdir(f\"./images/{date}\")\n",
    "\n",
    "        \n",
    "    if response.status_code in [200, 201]:\n",
    "        for image in response.json()[\"response\"][\"images\"]:\n",
    "            path = f\"./images/{date}/{datetime.datetime.now().strftime('%Y-%m-%d-%H-%M-%S')}_{uuid.uuid4()}.png\"\n",
    "            print(bruhcolor.bruhcolored(f\"Image saved to: {path}\",  \"green\"))\n",
    "            save_image(path=path, data=image)\n",
    "    else:\n",
    "        print(json.dumps(response.json(), indent=3))"
   ]
  },
  {
   "cell_type": "markdown",
   "metadata": {},
   "source": [
    "## Chat"
   ]
  },
  {
   "cell_type": "code",
   "execution_count": null,
   "metadata": {},
   "outputs": [
    {
     "name": "stdout",
     "output_type": "stream",
     "text": [
      "🌞 Hello! I'm shining brightly, thank you for asking 💖 What about you? Anything interesting happening today? 🤔🍃\n"
     ]
    }
   ],
   "source": [
    "payload = json.loads(open(\"./payloads.json\", \"r\").read())[\"jade\"]\n",
    "response = requests.post(\"http://127.0.0.1:8000/chat/ollama\", data=json.dumps(payload))\n",
    "\n",
    "if response.status_code in [200, 201]:\n",
    "    print(response.json()[\"response\"][\"response\"])\n",
    "else:\n",
    "    print(json.dumps(response.json(), indent=3))"
   ]
  },
  {
   "cell_type": "code",
   "execution_count": null,
   "metadata": {},
   "outputs": [
    {
     "name": "stdout",
     "output_type": "stream",
     "text": [
      "Ethan, how dare you even mention that name in my presence! Klim is a scumbag and I can't stand him. As for your question about me, I'm doing just fine, thank you very much. Keep his disgusting name away from me unless you want to see a real show. Sincerely, BBNBHD Marcus\n"
     ]
    }
   ],
   "source": [
    "payload = json.loads(open(\"./payloads.json\", \"r\").read())[\"marcus\"]\n",
    "response = requests.post(\"http://127.0.0.1:8000/chat/ollama\", data=json.dumps(payload))\n",
    "\n",
    "if response.status_code in [200, 201]:\n",
    "    print(response.json()[\"response\"][\"response\"])\n",
    "else:\n",
    "    print(json.dumps(response.json(), indent=3))"
   ]
  },
  {
   "cell_type": "code",
   "execution_count": null,
   "metadata": {},
   "outputs": [
    {
     "name": "stdout",
     "output_type": "stream",
     "text": [
      "An error has occured --> ('01000', \"[01000] [unixODBC][Driver Manager]Can't open lib 'SQL Server' : file not found (0) (SQLDriverConnect)\")\n"
     ]
    }
   ],
   "source": [
    "payload = json.loads(open(\"./payloads.json\", \"r\").read())[\"openai\"]\n",
    "response = requests.post(\"http://127.0.0.1:8000/chat/openai\", data=json.dumps(payload))\n",
    "\n",
    "if response.status_code in [200, 201]:\n",
    "    print(response.json()[\"response\"][\"response\"])\n",
    "else:\n",
    "    print(json.dumps(response.json(), indent=3))"
   ]
  }
 ],
 "metadata": {
  "kernelspec": {
   "display_name": "Python 3",
   "language": "python",
   "name": "python3"
  },
  "language_info": {
   "codemirror_mode": {
    "name": "ipython",
    "version": 3
   },
   "file_extension": ".py",
   "mimetype": "text/x-python",
   "name": "python",
   "nbconvert_exporter": "python",
   "pygments_lexer": "ipython3",
   "version": "3.11.5"
  }
 },
 "nbformat": 4,
 "nbformat_minor": 2
}
