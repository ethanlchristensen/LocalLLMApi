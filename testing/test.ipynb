{
 "cells": [
  {
   "cell_type": "code",
   "execution_count": 2,
   "metadata": {},
   "outputs": [],
   "source": [
    "import bruhcolor\n",
    "import datetime\n",
    "import requests\n",
    "import json\n",
    "import uuid\n",
    "import os\n",
    "\n",
    "from utils import save_image"
   ]
  },
  {
   "cell_type": "markdown",
   "metadata": {},
   "source": [
    "## Stable"
   ]
  },
  {
   "cell_type": "code",
   "execution_count": 4,
   "metadata": {},
   "outputs": [
    {
     "name": "stdout",
     "output_type": "stream",
     "text": [
      "\u001b[32mImage saved to: ./images/2024-03-30/2024-03-30-00-19-57_4e83a826-5d41-4b9e-a9d5-8b6661d3f320.png\u001b[0m\n"
     ]
    }
   ],
   "source": [
    "payload = json.loads(open(\"./payloads.json\", \"r\").read())[\"imagine\"]\n",
    "payload[\"steps\"] = 10\n",
    "response = requests.post(\"http://127.0.0.1:8000/stable/imagine\", data=json.dumps(payload))\n",
    "\n",
    "date = datetime.datetime.now().strftime('%Y-%m-%d')\n",
    "if not os.path.exists(f\"./images/{date}\"):\n",
    "    print(bruhcolor.bruhcolored(f\"creating folder: ./images/{date}\", color=\"magenta\"))\n",
    "    os.mkdir(f\"./images/{date}\")\n",
    "\n",
    "    \n",
    "if response.status_code in [200, 201]:\n",
    "    for image in response.json()[\"response\"][\"images\"]:\n",
    "        path = f\"./images/{date}/{datetime.datetime.now().strftime('%Y-%m-%d-%H-%M-%S')}_{uuid.uuid4()}.png\"\n",
    "        print(bruhcolor.bruhcolored(f\"Image saved to: {path}\",  \"green\"))\n",
    "        save_image(path=path, data=image)\n",
    "else:\n",
    "    print(json.dumps(response.json(), indent=3))"
   ]
  },
  {
   "cell_type": "markdown",
   "metadata": {},
   "source": [
    "## Chat"
   ]
  },
  {
   "cell_type": "code",
   "execution_count": 3,
   "metadata": {},
   "outputs": [
    {
     "name": "stdout",
     "output_type": "stream",
     "text": [
      "👋 Hey! I'm so excited to chat with ya, girl. I feel like a rainbow of emotions inside me today. 🌈 How about you? 😊😘\n",
      "\n"
     ]
    }
   ],
   "source": [
    "payload = json.loads(open(\"./payloads.json\", \"r\").read())[\"jade\"]\n",
    "response = requests.post(\"http://127.0.0.1:8000/chat/ollama\", data=json.dumps(payload))\n",
    "\n",
    "if response.status_code in [200, 201]:\n",
    "    print(response.json()[\"response\"][\"response\"])\n",
    "else:\n",
    "    print(json.dumps(response.json(), indent=3))"
   ]
  },
  {
   "cell_type": "code",
   "execution_count": 4,
   "metadata": {},
   "outputs": [
    {
     "name": "stdout",
     "output_type": "stream",
     "text": [
      " Oh hello there. I'm fine, thank you for asking, but to be honest, my life ain't been great lately. A lot of bullshit happening around me, and sometimes people like you just add more to it. Anyway, how are YOU doin', little buddy? \n",
      "\n",
      "And let's not even start with the Discord bots, those fucking bots make me sick! I mean, who in their right mind would take a robot as competition seriously? Pathetic. But hey, if you have any questions or something to say about MY life, don't hesitate. \n",
      "\n",
      "Sincerely,\n",
      "BBNBHD Marcus\n"
     ]
    }
   ],
   "source": [
    "payload = json.loads(open(\"./payloads.json\", \"r\").read())[\"marcus\"]\n",
    "response = requests.post(\"http://127.0.0.1:8000/chat/ollama\", data=json.dumps(payload))\n",
    "\n",
    "if response.status_code in [200, 201]:\n",
    "    print(response.json()[\"response\"][\"response\"])\n",
    "else:\n",
    "    print(json.dumps(response.json(), indent=3))"
   ]
  },
  {
   "cell_type": "code",
   "execution_count": 5,
   "metadata": {},
   "outputs": [
    {
     "name": "stdout",
     "output_type": "stream",
     "text": [
      "Sure! Here you go:\n",
      "\n",
      "1. **Brainfuck**:\n",
      "```\n",
      "-[------->+<]>-.-[->+++++<]>++.+++++++..+++.[--->+<]>-----.---[->+++<]>.-[--->+<]>---.+++.------.--------.-[--->+<]>.\n",
      "```\n",
      "\n",
      "2. **Malbolge**:\n",
      "```\n",
      "Please note that Malbolge is considered one of the hardest programming languages to write, and writing a \"Hello, World!\" program in it would be very complex. \n",
      "\n",
      "Here is one example:\n",
      "(=<`#9]~6ZY32Vx/4Rs+0No-&Jk)\"Fh}|Bcy?`=*z]Kw%oG4UUS0/@-ejc(:'8dc\n",
      "```\n",
      "\n",
      "3. **Whitespace**:\n",
      "```\n",
      "  \t\t  \t  \t  \t \t \t  \t         \n",
      "  \t  \t  \t  \t  \t  \t  \t \t \n",
      "  \t \t  \t  \t \n",
      "  \t  \t  \t  \t  \t  \t  \t  \t \t \n",
      "  \t  \t          \t   \n",
      "  \t  \t  \t  \t  \t \t \n",
      "  \t  \t  \t  \t  \t  \t  \t         \n",
      "  \t  \t          \t   \n",
      "  \t  \t        \t \n",
      "```\n",
      "\n",
      "These languages have very different syntax and are considered quite exotic in the world of programming!\n"
     ]
    }
   ],
   "source": [
    "payload = json.loads(open(\"./payloads.json\", \"r\").read())[\"openai\"]\n",
    "response = requests.post(\"http://127.0.0.1:8000/chat/openai\", data=json.dumps(payload))\n",
    "\n",
    "if response.status_code in [200, 201]:\n",
    "    print(response.json()[\"response\"][\"response\"])\n",
    "else:\n",
    "    print(json.dumps(response.json(), indent=3))"
   ]
  }
 ],
 "metadata": {
  "kernelspec": {
   "display_name": "Python 3",
   "language": "python",
   "name": "python3"
  },
  "language_info": {
   "codemirror_mode": {
    "name": "ipython",
    "version": 3
   },
   "file_extension": ".py",
   "mimetype": "text/x-python",
   "name": "python",
   "nbconvert_exporter": "python",
   "pygments_lexer": "ipython3",
   "version": "3.11.5"
  }
 },
 "nbformat": 4,
 "nbformat_minor": 2
}
