{
 "cells": [
  {
   "cell_type": "code",
   "execution_count": null,
   "metadata": {},
   "outputs": [],
   "source": [
    "import requests\n",
    "import json\n",
    "import uuid\n",
    "\n",
    "from utils import save_image"
   ]
  },
  {
   "cell_type": "markdown",
   "metadata": {},
   "source": [
    "## Stable"
   ]
  },
  {
   "cell_type": "code",
   "execution_count": null,
   "metadata": {},
   "outputs": [],
   "source": [
    "payload = json.loads(open(\"./payloads.json\", \"r\").read())[\"imagine\"]\n",
    "payload[\"steps\"] = 10\n",
    "response = requests.post(\"http://127.0.0.1:8000/stable/imagine\", data=json.dumps(payload))\n",
    "\n",
    "if response.status_code in [200, 201]:\n",
    "    for image in response.json()[\"response\"][\"images\"]:\n",
    "        save_image(path=f\"./images/{uuid.uuid4()}.png\", data=image)\n",
    "else:\n",
    "    print(json.dumps(response.json(), indent=3))"
   ]
  },
  {
   "cell_type": "markdown",
   "metadata": {},
   "source": [
    "## Chat"
   ]
  },
  {
   "cell_type": "code",
   "execution_count": null,
   "metadata": {},
   "outputs": [],
   "source": [
    "payload = json.loads(open(\"./payloads.json\", \"r\").read())[\"jade\"]\n",
    "response = requests.post(\"http://127.0.0.1:8000/chat/ollama\", data=json.dumps(payload))\n",
    "\n",
    "if response.status_code in [200, 201]:\n",
    "    print(response.json()[\"response\"][\"response\"])\n",
    "else:\n",
    "    print(json.dumps(response.json(), indent=3))"
   ]
  },
  {
   "cell_type": "code",
   "execution_count": null,
   "metadata": {},
   "outputs": [],
   "source": [
    "payload = json.loads(open(\"./payloads.json\", \"r\").read())[\"marcus\"]\n",
    "response = requests.post(\"http://127.0.0.1:8000/chat/ollama\", data=json.dumps(payload))\n",
    "\n",
    "if response.status_code in [200, 201]:\n",
    "    print(response.json()[\"response\"][\"response\"])\n",
    "else:\n",
    "    print(json.dumps(response.json(), indent=3))"
   ]
  },
  {
   "cell_type": "code",
   "execution_count": null,
   "metadata": {},
   "outputs": [],
   "source": [
    "payload = json.loads(open(\"./payloads.json\", \"r\").read())[\"openai\"]\n",
    "response = requests.post(\"http://127.0.0.1:8000/chat/openai\", data=json.dumps(payload))\n",
    "\n",
    "if response.status_code in [200, 201]:\n",
    "    print(response.json()[\"response\"][\"response\"])\n",
    "else:\n",
    "    print(json.dumps(response.json(), indent=3))"
   ]
  }
 ],
 "metadata": {
  "kernelspec": {
   "display_name": "Python 3",
   "language": "python",
   "name": "python3"
  },
  "language_info": {
   "codemirror_mode": {
    "name": "ipython",
    "version": 3
   },
   "file_extension": ".py",
   "mimetype": "text/x-python",
   "name": "python",
   "nbconvert_exporter": "python",
   "pygments_lexer": "ipython3",
   "version": "3.11.5"
  }
 },
 "nbformat": 4,
 "nbformat_minor": 2
}
