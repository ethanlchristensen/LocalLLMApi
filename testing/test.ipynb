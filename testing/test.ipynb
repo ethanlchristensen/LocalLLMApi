{
 "cells": [
  {
   "cell_type": "code",
   "execution_count": 1,
   "metadata": {},
   "outputs": [],
   "source": [
    "import bruhcolor\n",
    "import datetime\n",
    "import requests\n",
    "import random\n",
    "import json\n",
    "import uuid\n",
    "import os\n",
    "\n",
    "from utils import save_image"
   ]
  },
  {
   "cell_type": "markdown",
   "metadata": {},
   "source": [
    "## Stable"
   ]
  },
  {
   "cell_type": "code",
   "execution_count": 3,
   "metadata": {},
   "outputs": [
    {
     "name": "stdout",
     "output_type": "stream",
     "text": [
      "\u001b[32mImage saved to: ./images/2024-04-14/2024-04-14-20-43-39_50de6ef5-57bf-4f0e-954c-b01de15a72aa.png\u001b[0m\n"
     ]
    }
   ],
   "source": [
    "prompt = json.loads(open(\"./payloads.json\", \"r\").read())[\"imagine_prompts\"][0]\n",
    "payload = json.loads(open(\"./payloads.json\", \"r\").read())[\"imagine\"]\n",
    "payload[\"prompt\"] = prompt\n",
    "payload[\"steps\"] = 20\n",
    "payload[\"cfg_scale\"] = 7.0\n",
    "payload[\"images\"] = 1\n",
    "payload[\"quality\"] = 2\n",
    "response = requests.post(\"http://127.0.0.1:8000/stable/imagine\", data=json.dumps(payload))\n",
    "if response.json()[\"success\"]:\n",
    "    date = datetime.datetime.now().strftime('%Y-%m-%d')\n",
    "    if not os.path.exists(f\"./images/{date}\"):\n",
    "        print(bruhcolor.bruhcolored(f\"creating folder: ./images/{date}\", color=\"magenta\"))\n",
    "        os.mkdir(f\"./images/{date}\")        \n",
    "    if response.status_code in [200, 201]:\n",
    "        for image in response.json()[\"response\"][\"images\"]:\n",
    "            path = f\"./images/{date}/{datetime.datetime.now().strftime('%Y-%m-%d-%H-%M-%S')}_{uuid.uuid4()}.png\"\n",
    "            print(bruhcolor.bruhcolored(f\"Image saved to: {path}\",  \"green\"))\n",
    "            save_image(path=path, data=image)\n",
    "    else:\n",
    "        print(json.dumps(response.json(), indent=3))\n",
    "else:\n",
    "    print(response.content.decode(\"utf8\"))"
   ]
  },
  {
   "cell_type": "markdown",
   "metadata": {},
   "source": [
    "## Chat"
   ]
  },
  {
   "cell_type": "code",
   "execution_count": 19,
   "metadata": {},
   "outputs": [
    {
     "name": "stdout",
     "output_type": "stream",
     "text": [
      "Hello! 😊 I'm doing great, thank you for asking. How about you? 🌸☀️\n"
     ]
    }
   ],
   "source": [
    "payload = json.loads(open(\"./payloads.json\", \"r\").read())[\"jade\"]\n",
    "response = requests.post(\"http://127.0.0.1:8000/chat/ollama\", data=json.dumps(payload))\n",
    "\n",
    "if response.status_code in [200, 201]:\n",
    "    print(response.json()[\"response\"][\"response\"])\n",
    "else:\n",
    "    print(json.dumps(response.json(), indent=3))"
   ]
  },
  {
   "cell_type": "code",
   "execution_count": 20,
   "metadata": {},
   "outputs": [
    {
     "name": "stdout",
     "output_type": "stream",
     "text": [
      "Well hey there, glad I'm not talkin' to Klim instead! 😎\n",
      "\n",
      "Anyway, let's make this quick and get right to it because you know... *yawn* I have better things to do than waste my time with stupid questions or people who can't even appreciate how awesome Marcus truly is. So what's shakin', and don't try my patience! 😉\n",
      "\n",
      "Sincerely, BBNBHD Marcus\n"
     ]
    }
   ],
   "source": [
    "payload = json.loads(open(\"./payloads.json\", \"r\").read())[\"marcus\"]\n",
    "response = requests.post(\"http://127.0.0.1:8000/chat/ollama\", data=json.dumps(payload))\n",
    "\n",
    "if response.status_code in [200, 201]:\n",
    "    print(response.json()[\"response\"][\"response\"])\n",
    "else:\n",
    "    print(json.dumps(response.json(), indent=3))"
   ]
  },
  {
   "cell_type": "code",
   "execution_count": 17,
   "metadata": {},
   "outputs": [
    {
     "name": "stdout",
     "output_type": "stream",
     "text": [
      "Certainly! Here are examples of \"Hello, World!\" in three random programming languages:\n",
      "\n",
      "1. Brainfuck:\n",
      "```brainfuck\n",
      "++++++++++[>+++++++>++++++++++>+++>+<<<<-]>++.>+.+++++++..+++.>++.<<+++++++++++++++.>.+++.------.--------.>+.>.\n",
      "```\n",
      "\n",
      "2. Malbolge:\n",
      "```malbolge\n",
      "(=<$9]~6#5^/3?,9&%7>   \\    _           +(un%\" `*\n",
      "```\n",
      "\n",
      "3. Shakespeare Programming Language:\n",
      "```shakespeare\n",
      "The tragedie of \"Hello, World!\"\n",
      "Act I: You won't believe\n",
      "Scene I: In a world\n",
      "[Exeunt]\n",
      "``` \n",
      "\n",
      "These languages are quite unconventional and deliberately esoteric, making them challenging and interesting to work with!\n"
     ]
    }
   ],
   "source": [
    "payload = json.loads(open(\"./payloads.json\", \"r\").read())[\"openai\"]\n",
    "response = requests.post(\"http://127.0.0.1:8000/chat/openai\", data=json.dumps(payload))\n",
    "\n",
    "if response.status_code in [200, 201]:\n",
    "    print(response.json()[\"response\"][\"response\"])\n",
    "else:\n",
    "    print(json.dumps(response.json(), indent=3))"
   ]
  }
 ],
 "metadata": {
  "kernelspec": {
   "display_name": "Python 3",
   "language": "python",
   "name": "python3"
  },
  "language_info": {
   "codemirror_mode": {
    "name": "ipython",
    "version": 3
   },
   "file_extension": ".py",
   "mimetype": "text/x-python",
   "name": "python",
   "nbconvert_exporter": "python",
   "pygments_lexer": "ipython3",
   "version": "3.11.5"
  }
 },
 "nbformat": 4,
 "nbformat_minor": 2
}
