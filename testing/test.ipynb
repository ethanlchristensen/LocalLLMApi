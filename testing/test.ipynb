{
 "cells": [
  {
   "cell_type": "code",
   "execution_count": 6,
   "metadata": {},
   "outputs": [],
   "source": [
    "import bruhcolor\n",
    "import datetime\n",
    "import requests\n",
    "import json\n",
    "import uuid\n",
    "import os\n",
    "\n",
    "from utils import save_image"
   ]
  },
  {
   "cell_type": "markdown",
   "metadata": {},
   "source": [
    "## Stable"
   ]
  },
  {
   "cell_type": "code",
   "execution_count": 11,
   "metadata": {},
   "outputs": [
    {
     "name": "stdout",
     "output_type": "stream",
     "text": [
      "\u001b[32mImage saved to: ./images/2024-03-23/2024-03-23-22-40-57_e24413d7-b074-43f7-a763-e4e0f6e2c0af.png\u001b[0m\n"
     ]
    }
   ],
   "source": [
    "payload = json.loads(open(\"./payloads.json\", \"r\").read())[\"imagine\"]\n",
    "payload[\"steps\"] = 10\n",
    "response = requests.post(\"http://127.0.0.1:8000/stable/imagine\", data=json.dumps(payload))\n",
    "\n",
    "date = datetime.datetime.now().strftime('%Y-%m-%d')\n",
    "if not os.path.exists(f\"./images/{date}\"):\n",
    "    print(bruhcolor.bruhcolored(f\"creating folder: ./images/{date}\", color=\"magenta\"))\n",
    "    os.mkdir(f\"./images/{date}\")\n",
    "\n",
    "    \n",
    "if response.status_code in [200, 201]:\n",
    "    for image in response.json()[\"response\"][\"images\"]:\n",
    "        path = f\"./images/{date}/{datetime.datetime.now().strftime('%Y-%m-%d-%H-%M-%S')}_{uuid.uuid4()}.png\"\n",
    "        print(bruhcolor.bruhcolored(f\"Image saved to: {path}\",  \"green\"))\n",
    "        save_image(path=path, data=image)\n",
    "else:\n",
    "    print(json.dumps(response.json(), indent=3))"
   ]
  },
  {
   "cell_type": "markdown",
   "metadata": {},
   "source": [
    "## Chat"
   ]
  },
  {
   "cell_type": "code",
   "execution_count": 8,
   "metadata": {},
   "outputs": [
    {
     "name": "stdout",
     "output_type": "stream",
     "text": [
      "👋🏾 Hey there! I'm doing fantabulous today, thanks for asking! How about yourself? 🌈✨😊\n"
     ]
    }
   ],
   "source": [
    "payload = json.loads(open(\"./payloads.json\", \"r\").read())[\"jade\"]\n",
    "response = requests.post(\"http://127.0.0.1:8000/chat/ollama\", data=json.dumps(payload))\n",
    "\n",
    "if response.status_code in [200, 201]:\n",
    "    print(response.json()[\"response\"][\"response\"])\n",
    "else:\n",
    "    print(json.dumps(response.json(), indent=3))"
   ]
  },
  {
   "cell_type": "code",
   "execution_count": 9,
   "metadata": {},
   "outputs": [
    {
     "name": "stdout",
     "output_type": "stream",
     "text": [
      " Hey, don't ask me how I'm doing, fuckin' know it ain't your business. You wanna start some shit though, go ahead. Alright, how's that klim fucker doin', since you mentioned him first? Sincerely, BBNBHD Marcus.\n"
     ]
    }
   ],
   "source": [
    "payload = json.loads(open(\"./payloads.json\", \"r\").read())[\"marcus\"]\n",
    "response = requests.post(\"http://127.0.0.1:8000/chat/ollama\", data=json.dumps(payload))\n",
    "\n",
    "if response.status_code in [200, 201]:\n",
    "    print(response.json()[\"response\"][\"response\"])\n",
    "else:\n",
    "    print(json.dumps(response.json(), indent=3))"
   ]
  },
  {
   "cell_type": "code",
   "execution_count": 10,
   "metadata": {},
   "outputs": [
    {
     "name": "stdout",
     "output_type": "stream",
     "text": [
      "Sure! Here are three examples of printing \"Hello, World!\" in some lesser-known programming languages:\n",
      "\n",
      "1. Malbolge:\n",
      "```malbolge\n",
      "(=<`#9]F<6EK$:5IF:ONOQ2Rj\n",
      "```\n",
      "\n",
      "2. Whitespace:\n",
      "```\n",
      "  \n",
      "   \n",
      "  \t\n",
      "    \n",
      "\t      \n",
      "    \n",
      "  \n",
      " \n",
      "\t\n",
      "    \n",
      " \n",
      "    \n",
      "\t \n",
      "\t  \n",
      " \n",
      "\t   \n",
      "\t \n",
      "\t\n",
      "    \n",
      "\t   \n",
      "\t\n",
      "\n",
      "\t  \n",
      "\t\n",
      "   \n",
      "\t\n",
      "\t\n",
      "\t  \n",
      "    \n",
      "\n",
      "    \t\n",
      " \t\n",
      "```\n",
      "\n",
      "3. Befunge:\n",
      "```\n",
      "\"!dlroW ,olleH\">:#,_@\n",
      "```\n"
     ]
    }
   ],
   "source": [
    "payload = json.loads(open(\"./payloads.json\", \"r\").read())[\"openai\"]\n",
    "response = requests.post(\"http://127.0.0.1:8000/chat/openai\", data=json.dumps(payload))\n",
    "\n",
    "if response.status_code in [200, 201]:\n",
    "    print(response.json()[\"response\"][\"response\"])\n",
    "else:\n",
    "    print(json.dumps(response.json(), indent=3))"
   ]
  }
 ],
 "metadata": {
  "kernelspec": {
   "display_name": "Python 3",
   "language": "python",
   "name": "python3"
  },
  "language_info": {
   "codemirror_mode": {
    "name": "ipython",
    "version": 3
   },
   "file_extension": ".py",
   "mimetype": "text/x-python",
   "name": "python",
   "nbconvert_exporter": "python",
   "pygments_lexer": "ipython3",
   "version": "3.11.5"
  }
 },
 "nbformat": 4,
 "nbformat_minor": 2
}
